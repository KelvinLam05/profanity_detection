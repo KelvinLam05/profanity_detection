{
  "nbformat": 4,
  "nbformat_minor": 0,
  "metadata": {
    "colab": {
      "name": "profanity_detection.ipynb",
      "provenance": [],
      "collapsed_sections": [],
      "authorship_tag": "ABX9TyPnrDAHzugEVh6xWZOBxYZP",
      "include_colab_link": true
    },
    "kernelspec": {
      "name": "python3",
      "display_name": "Python 3"
    },
    "language_info": {
      "name": "python"
    }
  },
  "cells": [
    {
      "cell_type": "markdown",
      "metadata": {
        "id": "view-in-github",
        "colab_type": "text"
      },
      "source": [
        "<a href=\"https://colab.research.google.com/github/KelvinLam05/profanity_detection/blob/main/profanity_detection.ipynb\" target=\"_parent\"><img src=\"https://colab.research.google.com/assets/colab-badge.svg\" alt=\"Open In Colab\"/></a>"
      ]
    },
    {
      "cell_type": "markdown",
      "source": [
        "**Goal of the project**"
      ],
      "metadata": {
        "id": "ExXmsGvCccqd"
      }
    },
    {
      "cell_type": "markdown",
      "source": [
        "Countless websites today accept content from users in the form of text. Content such as comments on posts on social media platforms, reviews on products on e-commerce websites and articles on platforms like Medium, is increasing everyday at a rate faster than before. With such volume of content being generated, there’s an increasing load on moderators to moderate this content. Automating a few aspects of this moderation process would not only aid the moderators in the moderation process, but will also make the entire process more efficient. Detecting profanity in content is one such use-case."
      ],
      "metadata": {
        "id": "t2pbnk-4cg2y"
      }
    },
    {
      "cell_type": "markdown",
      "source": [
        "**Load the packages**"
      ],
      "metadata": {
        "id": "HtFaIkE8DNhu"
      }
    },
    {
      "cell_type": "code",
      "execution_count": null,
      "metadata": {
        "id": "ywLLWho2ydVY"
      },
      "outputs": [],
      "source": [
        "import pandas as pd\n",
        "import numpy as np\n",
        "import fasttext"
      ]
    },
    {
      "cell_type": "markdown",
      "source": [
        "**Load the data**"
      ],
      "metadata": {
        "id": "TzXW0A-zaB4H"
      }
    },
    {
      "cell_type": "markdown",
      "source": [
        "For this project I’ve used the [Jigsaw toxic comment classification dataset](https://www.kaggle.com/c/jigsaw-toxic-comment-classification-challenge) from Kaggle. We are provided with a large number of Wikipedia comments which have been labeled by human raters for toxic behavior. The types of toxicity are: toxic, severe_toxic, obscene, threat, insult, and identity_hate. "
      ],
      "metadata": {
        "id": "yP7DjJC6KKOy"
      }
    },
    {
      "cell_type": "code",
      "source": [
        "# Load dataset\n",
        "df = pd.read_csv('/content/train.csv').iloc[: , 1:]"
      ],
      "metadata": {
        "id": "3cKqqnsC0kGz"
      },
      "execution_count": null,
      "outputs": []
    },
    {
      "cell_type": "code",
      "source": [
        "# Examine the data\n",
        "df.head()"
      ],
      "metadata": {
        "colab": {
          "base_uri": "https://localhost:8080/",
          "height": 204
        },
        "id": "TBAP08ghv1zw",
        "outputId": "918af313-fe07-4861-f50a-d09f72017062"
      },
      "execution_count": null,
      "outputs": [
        {
          "output_type": "execute_result",
          "data": {
            "text/plain": [
              "                                        comment_text  toxic  severe_toxic  \\\n",
              "0  Explanation\\nWhy the edits made under my usern...      0             0   \n",
              "1  D'aww! He matches this background colour I'm s...      0             0   \n",
              "2  Hey man, I'm really not trying to edit war. It...      0             0   \n",
              "3  \"\\nMore\\nI can't make any real suggestions on ...      0             0   \n",
              "4  You, sir, are my hero. Any chance you remember...      0             0   \n",
              "\n",
              "   obscene  threat  insult  identity_hate  \n",
              "0        0       0       0              0  \n",
              "1        0       0       0              0  \n",
              "2        0       0       0              0  \n",
              "3        0       0       0              0  \n",
              "4        0       0       0              0  "
            ],
            "text/html": [
              "\n",
              "  <div id=\"df-dd0c8764-2959-4d74-a18c-de6a2080b6d1\">\n",
              "    <div class=\"colab-df-container\">\n",
              "      <div>\n",
              "<style scoped>\n",
              "    .dataframe tbody tr th:only-of-type {\n",
              "        vertical-align: middle;\n",
              "    }\n",
              "\n",
              "    .dataframe tbody tr th {\n",
              "        vertical-align: top;\n",
              "    }\n",
              "\n",
              "    .dataframe thead th {\n",
              "        text-align: right;\n",
              "    }\n",
              "</style>\n",
              "<table border=\"1\" class=\"dataframe\">\n",
              "  <thead>\n",
              "    <tr style=\"text-align: right;\">\n",
              "      <th></th>\n",
              "      <th>comment_text</th>\n",
              "      <th>toxic</th>\n",
              "      <th>severe_toxic</th>\n",
              "      <th>obscene</th>\n",
              "      <th>threat</th>\n",
              "      <th>insult</th>\n",
              "      <th>identity_hate</th>\n",
              "    </tr>\n",
              "  </thead>\n",
              "  <tbody>\n",
              "    <tr>\n",
              "      <th>0</th>\n",
              "      <td>Explanation\\nWhy the edits made under my usern...</td>\n",
              "      <td>0</td>\n",
              "      <td>0</td>\n",
              "      <td>0</td>\n",
              "      <td>0</td>\n",
              "      <td>0</td>\n",
              "      <td>0</td>\n",
              "    </tr>\n",
              "    <tr>\n",
              "      <th>1</th>\n",
              "      <td>D'aww! He matches this background colour I'm s...</td>\n",
              "      <td>0</td>\n",
              "      <td>0</td>\n",
              "      <td>0</td>\n",
              "      <td>0</td>\n",
              "      <td>0</td>\n",
              "      <td>0</td>\n",
              "    </tr>\n",
              "    <tr>\n",
              "      <th>2</th>\n",
              "      <td>Hey man, I'm really not trying to edit war. It...</td>\n",
              "      <td>0</td>\n",
              "      <td>0</td>\n",
              "      <td>0</td>\n",
              "      <td>0</td>\n",
              "      <td>0</td>\n",
              "      <td>0</td>\n",
              "    </tr>\n",
              "    <tr>\n",
              "      <th>3</th>\n",
              "      <td>\"\\nMore\\nI can't make any real suggestions on ...</td>\n",
              "      <td>0</td>\n",
              "      <td>0</td>\n",
              "      <td>0</td>\n",
              "      <td>0</td>\n",
              "      <td>0</td>\n",
              "      <td>0</td>\n",
              "    </tr>\n",
              "    <tr>\n",
              "      <th>4</th>\n",
              "      <td>You, sir, are my hero. Any chance you remember...</td>\n",
              "      <td>0</td>\n",
              "      <td>0</td>\n",
              "      <td>0</td>\n",
              "      <td>0</td>\n",
              "      <td>0</td>\n",
              "      <td>0</td>\n",
              "    </tr>\n",
              "  </tbody>\n",
              "</table>\n",
              "</div>\n",
              "      <button class=\"colab-df-convert\" onclick=\"convertToInteractive('df-dd0c8764-2959-4d74-a18c-de6a2080b6d1')\"\n",
              "              title=\"Convert this dataframe to an interactive table.\"\n",
              "              style=\"display:none;\">\n",
              "        \n",
              "  <svg xmlns=\"http://www.w3.org/2000/svg\" height=\"24px\"viewBox=\"0 0 24 24\"\n",
              "       width=\"24px\">\n",
              "    <path d=\"M0 0h24v24H0V0z\" fill=\"none\"/>\n",
              "    <path d=\"M18.56 5.44l.94 2.06.94-2.06 2.06-.94-2.06-.94-.94-2.06-.94 2.06-2.06.94zm-11 1L8.5 8.5l.94-2.06 2.06-.94-2.06-.94L8.5 2.5l-.94 2.06-2.06.94zm10 10l.94 2.06.94-2.06 2.06-.94-2.06-.94-.94-2.06-.94 2.06-2.06.94z\"/><path d=\"M17.41 7.96l-1.37-1.37c-.4-.4-.92-.59-1.43-.59-.52 0-1.04.2-1.43.59L10.3 9.45l-7.72 7.72c-.78.78-.78 2.05 0 2.83L4 21.41c.39.39.9.59 1.41.59.51 0 1.02-.2 1.41-.59l7.78-7.78 2.81-2.81c.8-.78.8-2.07 0-2.86zM5.41 20L4 18.59l7.72-7.72 1.47 1.35L5.41 20z\"/>\n",
              "  </svg>\n",
              "      </button>\n",
              "      \n",
              "  <style>\n",
              "    .colab-df-container {\n",
              "      display:flex;\n",
              "      flex-wrap:wrap;\n",
              "      gap: 12px;\n",
              "    }\n",
              "\n",
              "    .colab-df-convert {\n",
              "      background-color: #E8F0FE;\n",
              "      border: none;\n",
              "      border-radius: 50%;\n",
              "      cursor: pointer;\n",
              "      display: none;\n",
              "      fill: #1967D2;\n",
              "      height: 32px;\n",
              "      padding: 0 0 0 0;\n",
              "      width: 32px;\n",
              "    }\n",
              "\n",
              "    .colab-df-convert:hover {\n",
              "      background-color: #E2EBFA;\n",
              "      box-shadow: 0px 1px 2px rgba(60, 64, 67, 0.3), 0px 1px 3px 1px rgba(60, 64, 67, 0.15);\n",
              "      fill: #174EA6;\n",
              "    }\n",
              "\n",
              "    [theme=dark] .colab-df-convert {\n",
              "      background-color: #3B4455;\n",
              "      fill: #D2E3FC;\n",
              "    }\n",
              "\n",
              "    [theme=dark] .colab-df-convert:hover {\n",
              "      background-color: #434B5C;\n",
              "      box-shadow: 0px 1px 3px 1px rgba(0, 0, 0, 0.15);\n",
              "      filter: drop-shadow(0px 1px 2px rgba(0, 0, 0, 0.3));\n",
              "      fill: #FFFFFF;\n",
              "    }\n",
              "  </style>\n",
              "\n",
              "      <script>\n",
              "        const buttonEl =\n",
              "          document.querySelector('#df-dd0c8764-2959-4d74-a18c-de6a2080b6d1 button.colab-df-convert');\n",
              "        buttonEl.style.display =\n",
              "          google.colab.kernel.accessAllowed ? 'block' : 'none';\n",
              "\n",
              "        async function convertToInteractive(key) {\n",
              "          const element = document.querySelector('#df-dd0c8764-2959-4d74-a18c-de6a2080b6d1');\n",
              "          const dataTable =\n",
              "            await google.colab.kernel.invokeFunction('convertToInteractive',\n",
              "                                                     [key], {});\n",
              "          if (!dataTable) return;\n",
              "\n",
              "          const docLinkHtml = 'Like what you see? Visit the ' +\n",
              "            '<a target=\"_blank\" href=https://colab.research.google.com/notebooks/data_table.ipynb>data table notebook</a>'\n",
              "            + ' to learn more about interactive tables.';\n",
              "          element.innerHTML = '';\n",
              "          dataTable['output_type'] = 'display_data';\n",
              "          await google.colab.output.renderOutput(dataTable, element);\n",
              "          const docLink = document.createElement('div');\n",
              "          docLink.innerHTML = docLinkHtml;\n",
              "          element.appendChild(docLink);\n",
              "        }\n",
              "      </script>\n",
              "    </div>\n",
              "  </div>\n",
              "  "
            ]
          },
          "metadata": {},
          "execution_count": 192
        }
      ]
    },
    {
      "cell_type": "code",
      "source": [
        "# Overview of all variables, their datatypes\n",
        "df.info()"
      ],
      "metadata": {
        "colab": {
          "base_uri": "https://localhost:8080/"
        },
        "id": "wDekzumB0luJ",
        "outputId": "80a24ef5-dcbe-4cda-e7a8-fc018c1c7534"
      },
      "execution_count": null,
      "outputs": [
        {
          "output_type": "stream",
          "name": "stdout",
          "text": [
            "<class 'pandas.core.frame.DataFrame'>\n",
            "RangeIndex: 159571 entries, 0 to 159570\n",
            "Data columns (total 7 columns):\n",
            " #   Column         Non-Null Count   Dtype \n",
            "---  ------         --------------   ----- \n",
            " 0   comment_text   159571 non-null  object\n",
            " 1   toxic          159571 non-null  int64 \n",
            " 2   severe_toxic   159571 non-null  int64 \n",
            " 3   obscene        159571 non-null  int64 \n",
            " 4   threat         159571 non-null  int64 \n",
            " 5   insult         159571 non-null  int64 \n",
            " 6   identity_hate  159571 non-null  int64 \n",
            "dtypes: int64(6), object(1)\n",
            "memory usage: 8.5+ MB\n"
          ]
        }
      ]
    },
    {
      "cell_type": "markdown",
      "source": [
        "**Define the target variable**"
      ],
      "metadata": {
        "id": "OdndSqFaIamA"
      }
    },
    {
      "cell_type": "markdown",
      "source": [
        "Let’s first restructure this dataset to contain only one label type which will signify whether the sentence is profane or not. We will consider the comment to be profane if any of toxic, severe_toxic, obscene, threat, insult, identity_hate are marked as 1."
      ],
      "metadata": {
        "id": "suvSkEPHHYeK"
      }
    },
    {
      "cell_type": "code",
      "source": [
        "cols = ['toxic', 'severe_toxic', 'obscene', 'threat', 'insult', 'identity_hate']"
      ],
      "metadata": {
        "id": "xZFZ6h28U2wc"
      },
      "execution_count": null,
      "outputs": []
    },
    {
      "cell_type": "code",
      "source": [
        "df['label'] = df[cols].any(axis = 1).astype(int)"
      ],
      "metadata": {
        "id": "0y3gz2_kU5um"
      },
      "execution_count": null,
      "outputs": []
    },
    {
      "cell_type": "code",
      "source": [
        "df = df[['comment_text', 'label']]"
      ],
      "metadata": {
        "id": "Q9DNFpnMU8kN"
      },
      "execution_count": null,
      "outputs": []
    },
    {
      "cell_type": "markdown",
      "source": [
        "**Examine the class imbalance**"
      ],
      "metadata": {
        "id": "rvYZ9Jeu-F8u"
      }
    },
    {
      "cell_type": "markdown",
      "source": [
        "By running value_counts( ) on the label column containing our target variable, we can see that the data are imbalanced."
      ],
      "metadata": {
        "id": "_ndtEtVTDlDL"
      }
    },
    {
      "cell_type": "code",
      "source": [
        "df['label'].value_counts()"
      ],
      "metadata": {
        "colab": {
          "base_uri": "https://localhost:8080/"
        },
        "id": "9ZUCRV4W07ZI",
        "outputId": "93d6d44b-871a-4b65-e7ca-3bacd292bfc8"
      },
      "execution_count": null,
      "outputs": [
        {
          "output_type": "execute_result",
          "data": {
            "text/plain": [
              "0    143346\n",
              "1     16225\n",
              "Name: label, dtype: int64"
            ]
          },
          "metadata": {},
          "execution_count": 197
        }
      ]
    },
    {
      "cell_type": "markdown",
      "source": [
        "**Preprocessing the data**"
      ],
      "metadata": {
        "id": "KKFxTOSqCST5"
      }
    },
    {
      "cell_type": "markdown",
      "source": [
        "We will need to preprocess our text to remove misleading junk and noise in order to get the best results from our model."
      ],
      "metadata": {
        "id": "ykmjfJ2-GEBU"
      }
    },
    {
      "cell_type": "code",
      "source": [
        "import re\n",
        "import nltk\n",
        "from nltk.tokenize.toktok import ToktokTokenizer\n",
        "from nltk.corpus import stopwords\n",
        "from nltk.stem import WordNetLemmatizer "
      ],
      "metadata": {
        "id": "vD9LPuAt4Muk"
      },
      "execution_count": null,
      "outputs": []
    },
    {
      "cell_type": "code",
      "source": [
        "import unicodedata\n",
        "from emoji import demojize"
      ],
      "metadata": {
        "id": "sNg6rMnL4O1p"
      },
      "execution_count": null,
      "outputs": []
    },
    {
      "cell_type": "code",
      "source": [
        "nltk.download('stopwords')\n",
        "nltk.download('omw-1.4')\n",
        "nltk.download('wordnet')"
      ],
      "metadata": {
        "colab": {
          "base_uri": "https://localhost:8080/"
        },
        "id": "eZdaX8mv4Q74",
        "outputId": "53bda59e-0dc6-4390-c42c-f6f760075622"
      },
      "execution_count": null,
      "outputs": [
        {
          "output_type": "stream",
          "name": "stderr",
          "text": [
            "[nltk_data] Downloading package stopwords to /root/nltk_data...\n",
            "[nltk_data]   Package stopwords is already up-to-date!\n",
            "[nltk_data] Downloading package omw-1.4 to /root/nltk_data...\n",
            "[nltk_data]   Package omw-1.4 is already up-to-date!\n",
            "[nltk_data] Downloading package wordnet to /root/nltk_data...\n",
            "[nltk_data]   Package wordnet is already up-to-date!\n"
          ]
        },
        {
          "output_type": "execute_result",
          "data": {
            "text/plain": [
              "True"
            ]
          },
          "metadata": {},
          "execution_count": 200
        }
      ]
    },
    {
      "cell_type": "code",
      "source": [
        "stop_words = set(stopwords.words('english'))\n",
        "lemmatizer = nltk.stem.WordNetLemmatizer()"
      ],
      "metadata": {
        "id": "X4bf5bD_4Ta3"
      },
      "execution_count": null,
      "outputs": []
    },
    {
      "cell_type": "code",
      "source": [
        "def text_cleaning(text_data):\n",
        "\n",
        "  # Remove accented characters\n",
        "  text_data = unicodedata.normalize('NFKD', text_data).encode('ascii', 'ignore').decode('utf-8', 'ignore')\n",
        "\n",
        "  # Case conversion\n",
        "  text_data = text_data.lower()\n",
        "\n",
        "  # Demojize\n",
        "  text_data = demojize(text_data)\n",
        "\n",
        "  # Reducing repeated punctuations\n",
        "  pattern_punct = re.compile(r'([.,/#!$%^&*?;:{}=_`~()+-])\\1{1,}')\n",
        "  text_data = pattern_punct.sub(r'\\1', text_data)\n",
        "  \n",
        "  # Prevent redundant replacements of single-space with single-space\n",
        "  text_data = re.sub(' {2,}',' ', text_data)\n",
        "  \n",
        "  # Remove special characters\n",
        "  text_data = re.sub(r\"[^a-zA-Z?!]+\", ' ', text_data)\n",
        "\n",
        "  # Converting text to strings\n",
        "  text_data = str(text_data)\n",
        "\n",
        "  # Tokenization\n",
        "  tokenizer = ToktokTokenizer()\n",
        "  text_data = tokenizer.tokenize(text_data)\n",
        "\n",
        "  # Removing stopwords\n",
        "  text_data = [item for item in text_data if item not in stop_words]\n",
        "  \n",
        "  # Lemmatization\n",
        "  text_data = [lemmatizer.lemmatize(word = w, pos = 'v') for w in text_data]\n",
        "  \n",
        "  # Convert list of tokens to string data type\n",
        "  text_data = ' '.join (text_data)\n",
        "\n",
        "  return text_data"
      ],
      "metadata": {
        "id": "XXwusLa03HNc"
      },
      "execution_count": null,
      "outputs": []
    },
    {
      "cell_type": "code",
      "source": [
        "df['comment_text'] = df['comment_text'].apply(text_cleaning)"
      ],
      "metadata": {
        "id": "oyWjcNAh4wGr"
      },
      "execution_count": null,
      "outputs": []
    },
    {
      "cell_type": "markdown",
      "source": [
        "**Split the training and test data**"
      ],
      "metadata": {
        "id": "Jp5DeF_0Wktp"
      }
    },
    {
      "cell_type": "markdown",
      "source": [
        "Before training our classifier, we need to split the data into train and test. We will use the test set to evaluate how good the learned classifier is on new data."
      ],
      "metadata": {
        "id": "RMWwlblgZPtO"
      }
    },
    {
      "cell_type": "code",
      "source": [
        "X = df.drop(['label'], axis = 1)"
      ],
      "metadata": {
        "id": "CLjhQp3nZ0Vp"
      },
      "execution_count": null,
      "outputs": []
    },
    {
      "cell_type": "code",
      "source": [
        "y = df['label']"
      ],
      "metadata": {
        "id": "YIBqQH7aUY6_"
      },
      "execution_count": null,
      "outputs": []
    },
    {
      "cell_type": "markdown",
      "source": [
        "For the train-test split we use stratify to keep the ratio of category labels."
      ],
      "metadata": {
        "id": "cGVngcQdhsXy"
      }
    },
    {
      "cell_type": "code",
      "source": [
        "from sklearn.model_selection import train_test_split"
      ],
      "metadata": {
        "id": "X1D3gBZHEVw4"
      },
      "execution_count": null,
      "outputs": []
    },
    {
      "cell_type": "code",
      "source": [
        "X_train, X_test, y_train, y_test = train_test_split(X, y, test_size = 0.2, random_state = 42, stratify = y)"
      ],
      "metadata": {
        "id": "Jg0iAdsNFgEs"
      },
      "execution_count": null,
      "outputs": []
    },
    {
      "cell_type": "code",
      "source": [
        "X_train = pd.DataFrame(X_train)"
      ],
      "metadata": {
        "id": "qb_50cUW1KLF"
      },
      "execution_count": null,
      "outputs": []
    },
    {
      "cell_type": "code",
      "source": [
        "train = X_train.join(y_train)"
      ],
      "metadata": {
        "id": "OycsvcQv1a8Y"
      },
      "execution_count": null,
      "outputs": []
    },
    {
      "cell_type": "code",
      "source": [
        "X_test = pd.DataFrame(X_test)"
      ],
      "metadata": {
        "id": "kheViwDq10OE"
      },
      "execution_count": null,
      "outputs": []
    },
    {
      "cell_type": "code",
      "source": [
        "test = X_test.join(y_test)"
      ],
      "metadata": {
        "id": "-Oplgq2N124V"
      },
      "execution_count": null,
      "outputs": []
    },
    {
      "cell_type": "markdown",
      "source": [
        "**Formatting the labels**"
      ],
      "metadata": {
        "id": "NHZGS555eTy2"
      }
    },
    {
      "cell_type": "markdown",
      "source": [
        "The format of the text that goes into a fastText is a series/list, with each element as a string of text including its respective labels. All the labels/categories in fastText start by the \"`__label__`\" prefix, which is how fastText recognize what is a label or what is a word. The model is then trained to predict the labels given the word in the document. So now we will add `__label__` in front of the category for fastText to read it as a label and then combine the labels and words into a single string."
      ],
      "metadata": {
        "id": "ZXeH0a6JWBtr"
      }
    },
    {
      "cell_type": "code",
      "source": [
        "train['label'] = '__label__' + train['label'].astype(str)"
      ],
      "metadata": {
        "id": "UfCRfCbNzGCi"
      },
      "execution_count": null,
      "outputs": []
    },
    {
      "cell_type": "code",
      "source": [
        "test['label'] = '__label__' + test['label'].astype(str)"
      ],
      "metadata": {
        "id": "CwXtLK_bzpcG"
      },
      "execution_count": null,
      "outputs": []
    },
    {
      "cell_type": "code",
      "source": [
        "train['label'] = train['label'] + ' ' + train['comment_text']"
      ],
      "metadata": {
        "id": "ZhrG3NE-GMzO"
      },
      "execution_count": null,
      "outputs": []
    },
    {
      "cell_type": "code",
      "source": [
        "test['label'] = test['label'] + ' ' + test['comment_text']"
      ],
      "metadata": {
        "id": "zRjyZ2s7UVc9"
      },
      "execution_count": null,
      "outputs": []
    },
    {
      "cell_type": "code",
      "source": [
        "train.head()"
      ],
      "metadata": {
        "colab": {
          "base_uri": "https://localhost:8080/",
          "height": 204
        },
        "id": "y4NwBTYE-97I",
        "outputId": "a8123323-4d5e-40f2-de61-6e2f3a77d320"
      },
      "execution_count": null,
      "outputs": [
        {
          "output_type": "execute_result",
          "data": {
            "text/plain": [
              "                                             comment_text  \\\n",
              "94175                 message thank message fun ! feb utc   \n",
              "50277   fallout shelter remove two part unsourced stat...   \n",
              "62862        hair loss information spam link relate topic   \n",
              "35721   thank honestly feel hour block bite much quest...   \n",
              "121873  warn support propaganda ? nice try henrik try ...   \n",
              "\n",
              "                                                    label  \n",
              "94175      __label__0 message thank message fun ! feb utc  \n",
              "50277   __label__0 fallout shelter remove two part uns...  \n",
              "62862   __label__0 hair loss information spam link rel...  \n",
              "35721   __label__0 thank honestly feel hour block bite...  \n",
              "121873  __label__0 warn support propaganda ? nice try ...  "
            ],
            "text/html": [
              "\n",
              "  <div id=\"df-3a44e836-d3cf-487c-b581-68f11e34503f\">\n",
              "    <div class=\"colab-df-container\">\n",
              "      <div>\n",
              "<style scoped>\n",
              "    .dataframe tbody tr th:only-of-type {\n",
              "        vertical-align: middle;\n",
              "    }\n",
              "\n",
              "    .dataframe tbody tr th {\n",
              "        vertical-align: top;\n",
              "    }\n",
              "\n",
              "    .dataframe thead th {\n",
              "        text-align: right;\n",
              "    }\n",
              "</style>\n",
              "<table border=\"1\" class=\"dataframe\">\n",
              "  <thead>\n",
              "    <tr style=\"text-align: right;\">\n",
              "      <th></th>\n",
              "      <th>comment_text</th>\n",
              "      <th>label</th>\n",
              "    </tr>\n",
              "  </thead>\n",
              "  <tbody>\n",
              "    <tr>\n",
              "      <th>94175</th>\n",
              "      <td>message thank message fun ! feb utc</td>\n",
              "      <td>__label__0 message thank message fun ! feb utc</td>\n",
              "    </tr>\n",
              "    <tr>\n",
              "      <th>50277</th>\n",
              "      <td>fallout shelter remove two part unsourced stat...</td>\n",
              "      <td>__label__0 fallout shelter remove two part uns...</td>\n",
              "    </tr>\n",
              "    <tr>\n",
              "      <th>62862</th>\n",
              "      <td>hair loss information spam link relate topic</td>\n",
              "      <td>__label__0 hair loss information spam link rel...</td>\n",
              "    </tr>\n",
              "    <tr>\n",
              "      <th>35721</th>\n",
              "      <td>thank honestly feel hour block bite much quest...</td>\n",
              "      <td>__label__0 thank honestly feel hour block bite...</td>\n",
              "    </tr>\n",
              "    <tr>\n",
              "      <th>121873</th>\n",
              "      <td>warn support propaganda ? nice try henrik try ...</td>\n",
              "      <td>__label__0 warn support propaganda ? nice try ...</td>\n",
              "    </tr>\n",
              "  </tbody>\n",
              "</table>\n",
              "</div>\n",
              "      <button class=\"colab-df-convert\" onclick=\"convertToInteractive('df-3a44e836-d3cf-487c-b581-68f11e34503f')\"\n",
              "              title=\"Convert this dataframe to an interactive table.\"\n",
              "              style=\"display:none;\">\n",
              "        \n",
              "  <svg xmlns=\"http://www.w3.org/2000/svg\" height=\"24px\"viewBox=\"0 0 24 24\"\n",
              "       width=\"24px\">\n",
              "    <path d=\"M0 0h24v24H0V0z\" fill=\"none\"/>\n",
              "    <path d=\"M18.56 5.44l.94 2.06.94-2.06 2.06-.94-2.06-.94-.94-2.06-.94 2.06-2.06.94zm-11 1L8.5 8.5l.94-2.06 2.06-.94-2.06-.94L8.5 2.5l-.94 2.06-2.06.94zm10 10l.94 2.06.94-2.06 2.06-.94-2.06-.94-.94-2.06-.94 2.06-2.06.94z\"/><path d=\"M17.41 7.96l-1.37-1.37c-.4-.4-.92-.59-1.43-.59-.52 0-1.04.2-1.43.59L10.3 9.45l-7.72 7.72c-.78.78-.78 2.05 0 2.83L4 21.41c.39.39.9.59 1.41.59.51 0 1.02-.2 1.41-.59l7.78-7.78 2.81-2.81c.8-.78.8-2.07 0-2.86zM5.41 20L4 18.59l7.72-7.72 1.47 1.35L5.41 20z\"/>\n",
              "  </svg>\n",
              "      </button>\n",
              "      \n",
              "  <style>\n",
              "    .colab-df-container {\n",
              "      display:flex;\n",
              "      flex-wrap:wrap;\n",
              "      gap: 12px;\n",
              "    }\n",
              "\n",
              "    .colab-df-convert {\n",
              "      background-color: #E8F0FE;\n",
              "      border: none;\n",
              "      border-radius: 50%;\n",
              "      cursor: pointer;\n",
              "      display: none;\n",
              "      fill: #1967D2;\n",
              "      height: 32px;\n",
              "      padding: 0 0 0 0;\n",
              "      width: 32px;\n",
              "    }\n",
              "\n",
              "    .colab-df-convert:hover {\n",
              "      background-color: #E2EBFA;\n",
              "      box-shadow: 0px 1px 2px rgba(60, 64, 67, 0.3), 0px 1px 3px 1px rgba(60, 64, 67, 0.15);\n",
              "      fill: #174EA6;\n",
              "    }\n",
              "\n",
              "    [theme=dark] .colab-df-convert {\n",
              "      background-color: #3B4455;\n",
              "      fill: #D2E3FC;\n",
              "    }\n",
              "\n",
              "    [theme=dark] .colab-df-convert:hover {\n",
              "      background-color: #434B5C;\n",
              "      box-shadow: 0px 1px 3px 1px rgba(0, 0, 0, 0.15);\n",
              "      filter: drop-shadow(0px 1px 2px rgba(0, 0, 0, 0.3));\n",
              "      fill: #FFFFFF;\n",
              "    }\n",
              "  </style>\n",
              "\n",
              "      <script>\n",
              "        const buttonEl =\n",
              "          document.querySelector('#df-3a44e836-d3cf-487c-b581-68f11e34503f button.colab-df-convert');\n",
              "        buttonEl.style.display =\n",
              "          google.colab.kernel.accessAllowed ? 'block' : 'none';\n",
              "\n",
              "        async function convertToInteractive(key) {\n",
              "          const element = document.querySelector('#df-3a44e836-d3cf-487c-b581-68f11e34503f');\n",
              "          const dataTable =\n",
              "            await google.colab.kernel.invokeFunction('convertToInteractive',\n",
              "                                                     [key], {});\n",
              "          if (!dataTable) return;\n",
              "\n",
              "          const docLinkHtml = 'Like what you see? Visit the ' +\n",
              "            '<a target=\"_blank\" href=https://colab.research.google.com/notebooks/data_table.ipynb>data table notebook</a>'\n",
              "            + ' to learn more about interactive tables.';\n",
              "          element.innerHTML = '';\n",
              "          dataTable['output_type'] = 'display_data';\n",
              "          await google.colab.output.renderOutput(dataTable, element);\n",
              "          const docLink = document.createElement('div');\n",
              "          docLink.innerHTML = docLinkHtml;\n",
              "          element.appendChild(docLink);\n",
              "        }\n",
              "      </script>\n",
              "    </div>\n",
              "  </div>\n",
              "  "
            ]
          },
          "metadata": {},
          "execution_count": 216
        }
      ]
    },
    {
      "cell_type": "code",
      "source": [
        "test.head()"
      ],
      "metadata": {
        "colab": {
          "base_uri": "https://localhost:8080/",
          "height": 204
        },
        "id": "3Lu2E8RX-_fe",
        "outputId": "c6f8c1a9-c6d7-4346-c39c-f9ff43d142d6"
      },
      "execution_count": null,
      "outputs": [
        {
          "output_type": "execute_result",
          "data": {
            "text/plain": [
              "                                             comment_text  \\\n",
              "63958   thank help plot upon time west one time favori...   \n",
              "11723   nothing ambiguous logic evolution guy upgrade ...   \n",
              "18282   go hell fatso hey dickwad ! ignore poke hole r...   \n",
              "145258  add justice development party turkey akp add l...   \n",
              "152834  hi add link incidents think constructive pleas...   \n",
              "\n",
              "                                                    label  \n",
              "63958   __label__0 thank help plot upon time west one ...  \n",
              "11723   __label__0 nothing ambiguous logic evolution g...  \n",
              "18282   __label__1 go hell fatso hey dickwad ! ignore ...  \n",
              "145258  __label__0 add justice development party turke...  \n",
              "152834  __label__0 hi add link incidents think constru...  "
            ],
            "text/html": [
              "\n",
              "  <div id=\"df-b90109f5-ad72-495e-9cba-635b0f81db2d\">\n",
              "    <div class=\"colab-df-container\">\n",
              "      <div>\n",
              "<style scoped>\n",
              "    .dataframe tbody tr th:only-of-type {\n",
              "        vertical-align: middle;\n",
              "    }\n",
              "\n",
              "    .dataframe tbody tr th {\n",
              "        vertical-align: top;\n",
              "    }\n",
              "\n",
              "    .dataframe thead th {\n",
              "        text-align: right;\n",
              "    }\n",
              "</style>\n",
              "<table border=\"1\" class=\"dataframe\">\n",
              "  <thead>\n",
              "    <tr style=\"text-align: right;\">\n",
              "      <th></th>\n",
              "      <th>comment_text</th>\n",
              "      <th>label</th>\n",
              "    </tr>\n",
              "  </thead>\n",
              "  <tbody>\n",
              "    <tr>\n",
              "      <th>63958</th>\n",
              "      <td>thank help plot upon time west one time favori...</td>\n",
              "      <td>__label__0 thank help plot upon time west one ...</td>\n",
              "    </tr>\n",
              "    <tr>\n",
              "      <th>11723</th>\n",
              "      <td>nothing ambiguous logic evolution guy upgrade ...</td>\n",
              "      <td>__label__0 nothing ambiguous logic evolution g...</td>\n",
              "    </tr>\n",
              "    <tr>\n",
              "      <th>18282</th>\n",
              "      <td>go hell fatso hey dickwad ! ignore poke hole r...</td>\n",
              "      <td>__label__1 go hell fatso hey dickwad ! ignore ...</td>\n",
              "    </tr>\n",
              "    <tr>\n",
              "      <th>145258</th>\n",
              "      <td>add justice development party turkey akp add l...</td>\n",
              "      <td>__label__0 add justice development party turke...</td>\n",
              "    </tr>\n",
              "    <tr>\n",
              "      <th>152834</th>\n",
              "      <td>hi add link incidents think constructive pleas...</td>\n",
              "      <td>__label__0 hi add link incidents think constru...</td>\n",
              "    </tr>\n",
              "  </tbody>\n",
              "</table>\n",
              "</div>\n",
              "      <button class=\"colab-df-convert\" onclick=\"convertToInteractive('df-b90109f5-ad72-495e-9cba-635b0f81db2d')\"\n",
              "              title=\"Convert this dataframe to an interactive table.\"\n",
              "              style=\"display:none;\">\n",
              "        \n",
              "  <svg xmlns=\"http://www.w3.org/2000/svg\" height=\"24px\"viewBox=\"0 0 24 24\"\n",
              "       width=\"24px\">\n",
              "    <path d=\"M0 0h24v24H0V0z\" fill=\"none\"/>\n",
              "    <path d=\"M18.56 5.44l.94 2.06.94-2.06 2.06-.94-2.06-.94-.94-2.06-.94 2.06-2.06.94zm-11 1L8.5 8.5l.94-2.06 2.06-.94-2.06-.94L8.5 2.5l-.94 2.06-2.06.94zm10 10l.94 2.06.94-2.06 2.06-.94-2.06-.94-.94-2.06-.94 2.06-2.06.94z\"/><path d=\"M17.41 7.96l-1.37-1.37c-.4-.4-.92-.59-1.43-.59-.52 0-1.04.2-1.43.59L10.3 9.45l-7.72 7.72c-.78.78-.78 2.05 0 2.83L4 21.41c.39.39.9.59 1.41.59.51 0 1.02-.2 1.41-.59l7.78-7.78 2.81-2.81c.8-.78.8-2.07 0-2.86zM5.41 20L4 18.59l7.72-7.72 1.47 1.35L5.41 20z\"/>\n",
              "  </svg>\n",
              "      </button>\n",
              "      \n",
              "  <style>\n",
              "    .colab-df-container {\n",
              "      display:flex;\n",
              "      flex-wrap:wrap;\n",
              "      gap: 12px;\n",
              "    }\n",
              "\n",
              "    .colab-df-convert {\n",
              "      background-color: #E8F0FE;\n",
              "      border: none;\n",
              "      border-radius: 50%;\n",
              "      cursor: pointer;\n",
              "      display: none;\n",
              "      fill: #1967D2;\n",
              "      height: 32px;\n",
              "      padding: 0 0 0 0;\n",
              "      width: 32px;\n",
              "    }\n",
              "\n",
              "    .colab-df-convert:hover {\n",
              "      background-color: #E2EBFA;\n",
              "      box-shadow: 0px 1px 2px rgba(60, 64, 67, 0.3), 0px 1px 3px 1px rgba(60, 64, 67, 0.15);\n",
              "      fill: #174EA6;\n",
              "    }\n",
              "\n",
              "    [theme=dark] .colab-df-convert {\n",
              "      background-color: #3B4455;\n",
              "      fill: #D2E3FC;\n",
              "    }\n",
              "\n",
              "    [theme=dark] .colab-df-convert:hover {\n",
              "      background-color: #434B5C;\n",
              "      box-shadow: 0px 1px 3px 1px rgba(0, 0, 0, 0.15);\n",
              "      filter: drop-shadow(0px 1px 2px rgba(0, 0, 0, 0.3));\n",
              "      fill: #FFFFFF;\n",
              "    }\n",
              "  </style>\n",
              "\n",
              "      <script>\n",
              "        const buttonEl =\n",
              "          document.querySelector('#df-b90109f5-ad72-495e-9cba-635b0f81db2d button.colab-df-convert');\n",
              "        buttonEl.style.display =\n",
              "          google.colab.kernel.accessAllowed ? 'block' : 'none';\n",
              "\n",
              "        async function convertToInteractive(key) {\n",
              "          const element = document.querySelector('#df-b90109f5-ad72-495e-9cba-635b0f81db2d');\n",
              "          const dataTable =\n",
              "            await google.colab.kernel.invokeFunction('convertToInteractive',\n",
              "                                                     [key], {});\n",
              "          if (!dataTable) return;\n",
              "\n",
              "          const docLinkHtml = 'Like what you see? Visit the ' +\n",
              "            '<a target=\"_blank\" href=https://colab.research.google.com/notebooks/data_table.ipynb>data table notebook</a>'\n",
              "            + ' to learn more about interactive tables.';\n",
              "          element.innerHTML = '';\n",
              "          dataTable['output_type'] = 'display_data';\n",
              "          await google.colab.output.renderOutput(dataTable, element);\n",
              "          const docLink = document.createElement('div');\n",
              "          docLink.innerHTML = docLinkHtml;\n",
              "          element.appendChild(docLink);\n",
              "        }\n",
              "      </script>\n",
              "    </div>\n",
              "  </div>\n",
              "  "
            ]
          },
          "metadata": {},
          "execution_count": 217
        }
      ]
    },
    {
      "cell_type": "markdown",
      "source": [
        "**Saving DataFrames as text files**"
      ],
      "metadata": {
        "id": "9uLVjlTgenls"
      }
    },
    {
      "cell_type": "markdown",
      "source": [
        "In the following step, we are saving our DataFrames as text files."
      ],
      "metadata": {
        "id": "rfoNOc7kcBLP"
      }
    },
    {
      "cell_type": "code",
      "source": [
        "import csv"
      ],
      "metadata": {
        "id": "DynDsuhIZiUi"
      },
      "execution_count": null,
      "outputs": []
    },
    {
      "cell_type": "code",
      "source": [
        "# Write test and train into files\n",
        "train.to_csv('train.txt', \n",
        "             index = False, \n",
        "             sep = ' ',\n",
        "             header = None, \n",
        "             quoting = csv.QUOTE_NONE, \n",
        "             quotechar = \"\", \n",
        "             escapechar = \" \")\n",
        "\n",
        "test.to_csv('test.txt', \n",
        "            index = False, \n",
        "            sep = ' ',\n",
        "            header = None, \n",
        "            quoting = csv.QUOTE_NONE, \n",
        "            quotechar = \"\", \n",
        "            escapechar = \" \")"
      ],
      "metadata": {
        "id": "FjZtbeWkWr4P"
      },
      "execution_count": null,
      "outputs": []
    },
    {
      "cell_type": "markdown",
      "source": [
        "**Our classifier**"
      ],
      "metadata": {
        "id": "1jDj5xlnXZMn"
      }
    },
    {
      "cell_type": "markdown",
      "source": [
        "We are now ready to train our classifier:"
      ],
      "metadata": {
        "id": "EFmyodWoXUsL"
      }
    },
    {
      "cell_type": "code",
      "source": [
        "model = fasttext.train_supervised('train.txt')"
      ],
      "metadata": {
        "id": "x-r9xPXCWrtA"
      },
      "execution_count": null,
      "outputs": []
    },
    {
      "cell_type": "markdown",
      "source": [
        "Now let's see how the model does on the test set."
      ],
      "metadata": {
        "id": "eHy9CMoSXl-T"
      }
    },
    {
      "cell_type": "code",
      "source": [
        "model.test('test.txt')  "
      ],
      "metadata": {
        "colab": {
          "base_uri": "https://localhost:8080/"
        },
        "id": "uk1mR0StDsIj",
        "outputId": "d35f4145-73da-4481-d0c4-c256fcdda307"
      },
      "execution_count": null,
      "outputs": [
        {
          "output_type": "execute_result",
          "data": {
            "text/plain": [
              "(31915, 0.9606767977440075, 0.9606767977440075)"
            ]
          },
          "metadata": {},
          "execution_count": 221
        }
      ]
    },
    {
      "cell_type": "markdown",
      "source": [
        "The output are the number of samples (here 31915), the precision at one (0.96) and the recall at one (0.96)."
      ],
      "metadata": {
        "id": "ou6zG5tdXuTo"
      }
    }
  ]
}